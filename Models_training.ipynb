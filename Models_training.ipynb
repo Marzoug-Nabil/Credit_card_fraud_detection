{
 "cells": [
  {
   "cell_type": "markdown",
   "id": "e98c6ba6-ca30-4d04-b1ba-909c865ef202",
   "metadata": {},
   "source": [
    "## Models "
   ]
  },
  {
   "cell_type": "markdown",
   "id": "284103d7-cff7-48fb-a839-ea30fb19d412",
   "metadata": {
    "id": "V4dEItMjexqB"
   },
   "source": [
    "## Before feature selection and data balancing"
   ]
  },
  {
   "cell_type": "code",
   "execution_count": null,
   "id": "ee96e46e-07a5-4eb3-9345-59a9d1910e96",
   "metadata": {
    "id": "JnI7eoxIeClR"
   },
   "outputs": [],
   "source": [
    "\n",
    "def fit_boosting_models(X_train, y_train, X_valid, y_valid) -> Dict[str, Dict[str, float]]:\n",
    "    models = {}\n",
    "\n",
    "    scaler = MinMaxScaler()\n",
    "    X_train = scaler.fit_transform(X_train)\n",
    "    X_valid = scaler.transform(X_valid)\n",
    "\n",
    "    # Random Forest\n",
    "\n",
    "    rf = RandomForestClassifier(random_state=42, n_estimators= 1000)\n",
    "    rf.fit(X_train, y_train)\n",
    "    y_pred_rf = rf.predict(X_valid)\n",
    "    y_pred_rf = rf.predict(X_valid).astype('int64')\n",
    "    models[\"rf\"] = {\n",
    "        \"Accuracy\": accuracy_score(y_valid,y_pred_rf ),\n",
    "        \"Precision\": precision_score(y_valid, y_pred_rf),\n",
    "        \"Recall\": recall_score(y_valid, y_pred_rf),\n",
    "        \"F1 Score\": f1_score(y_valid, y_pred_rf)\n",
    "    }\n",
    "\n",
    "\n",
    "    # AdaBoost Classifier\n",
    "    adaboost = AdaBoostClassifier(random_state=42, n_estimators= 1000)\n",
    "    adaboost.fit(X_train, y_train)\n",
    "    y_pred_adaboost = adaboost.predict(X_valid)\n",
    "    y_pred_adaboost = y_pred_adaboost.astype('int64')\n",
    "    models[\"AdaBoost\"] = {\n",
    "        \"Accuracy\": accuracy_score(y_valid, y_pred_adaboost),\n",
    "        \"Precision\": precision_score(y_valid, y_pred_adaboost),\n",
    "        \"Recall\": recall_score(y_valid, y_pred_adaboost),\n",
    "        \"F1 Score\": f1_score(y_valid, y_pred_adaboost)\n",
    "    }\n",
    "\n",
    "    # Gradient Boosting Classifier\n",
    "    gradboost = GradientBoostingClassifier(random_state=42, n_estimators= 1000)\n",
    "    gradboost.fit(X_train, y_train)\n",
    "    y_pred_gradboost = gradboost.predict(X_valid)\n",
    "    y_pred_gradboost = y_pred_gradboost.astype('int64')\n",
    "    models[\"Gradient Boosting\"] = {\n",
    "        \"Accuracy\": accuracy_score(y_valid, y_pred_gradboost),\n",
    "        \"Precision\": precision_score(y_valid, y_pred_gradboost),\n",
    "        \"Recall\": recall_score(y_valid, y_pred_gradboost),\n",
    "        \"F1 Score\": f1_score(y_valid, y_pred_gradboost)\n",
    "    }\n",
    "\n",
    "    # XGBoost Classifier\n",
    "    xgboost = XGBClassifier(random_state=42, n_estimators= 1000)\n",
    "    xgboost.fit(X_train, y_train)\n",
    "    y_pred_xgboost = xgboost.predict(X_valid)\n",
    "    y_pred_xgboost = y_pred_xgboost.astype('int64')\n",
    "    models[\"XGBoost\"] = {\n",
    "        \"Accuracy\": accuracy_score(y_valid, y_pred_xgboost),\n",
    "        \"Precision\": precision_score(y_valid, y_pred_xgboost),\n",
    "        \"Recall\": recall_score(y_valid, y_pred_xgboost),\n",
    "        \"F1 Score\": f1_score(y_valid, y_pred_xgboost)\n",
    "    }\n",
    "\n",
    "\n",
    "    # CatBoost Classifier\n",
    "    catboost = CatBoostClassifier(random_state=42, silent=True, n_estimators= 1000)\n",
    "    catboost.fit(X_train, y_train)\n",
    "    y_pred_catboost = catboost.predict(X_valid)\n",
    "    y_pred_catboost = y_pred_catboost.astype('int64')\n",
    "    models[\"CatBoost\"] = {\n",
    "        \"Accuracy\": accuracy_score(y_valid, y_pred_catboost),\n",
    "        \"Precision\": precision_score(y_valid, y_pred_catboost),\n",
    "        \"Recall\": recall_score(y_valid, y_pred_catboost),\n",
    "        \"F1 Score\": f1_score(y_valid, y_pred_catboost)\n",
    "    }\n",
    "\n",
    "\n",
    "    for model_name, model_metrics in models.items():\n",
    "        print(f\"Metrics for {model_name}:\")\n",
    "        for metric_name, metric_value in model_metrics.items():\n",
    "            print(f\"\\t{metric_name}: {metric_value:.4f}\")\n",
    "        print(\"\")\n",
    "\n",
    "    return models"
   ]
  },
  {
   "cell_type": "code",
   "execution_count": null,
   "id": "3a6a8aec-1e1e-496b-beef-ee28f3192666",
   "metadata": {
    "colab": {
     "base_uri": "https://localhost:8080/"
    },
    "id": "puPCket4mElT",
    "outputId": "1fb247c1-fdcc-4f01-a693-04a54ec28f46"
   },
   "outputs": [
    {
     "name": "stdout",
     "output_type": "stream",
     "text": [
      "Metrics for rf:\n",
      "\n",
      "\tAccuracy: 0.9994\n",
      "\n",
      "\tPrecision: 0.9467\n",
      "\n",
      "\tRecall: 0.7172\n",
      "\n",
      "\tF1 Score: 0.8161\n",
      "\n",
      "\n",
      "\n",
      "Metrics for AdaBoost:\n",
      "\n",
      "\tAccuracy: 0.9994\n",
      "\n",
      "\tPrecision: 0.9429\n",
      "\n",
      "\tRecall: 0.6667\n",
      "\n",
      "\tF1 Score: 0.7811\n",
      "\n",
      "\n",
      "\n",
      "Metrics for Gradient Boosting:\n",
      "\n",
      "\tAccuracy: 0.9991\n",
      "\n",
      "\tPrecision: 0.8615\n",
      "\n",
      "\tRecall: 0.5657\n",
      "\n",
      "\tF1 Score: 0.6829\n",
      "\n",
      "\n",
      "\n",
      "Metrics for XGBoost:\n",
      "\n",
      "\tAccuracy: 0.9994\n",
      "\n",
      "\tPrecision: 0.9459\n",
      "\n",
      "\tRecall: 0.7071\n",
      "\n",
      "\tF1 Score: 0.8092\n",
      "\n",
      "\n",
      "\n",
      "Metrics for CatBoost:\n",
      "\n",
      "\tAccuracy: 0.9995\n",
      "\n",
      "\tPrecision: 0.9737\n",
      "\n",
      "\tRecall: 0.7475\n",
      "\n",
      "\tF1 Score: 0.8457\n",
      "\n",
      "\n"
     ]
    }
   ],
   "source": [
    "models = fit_boosting_models(X_train, y_train, X_valid, y_valid)"
   ]
  },
  {
   "cell_type": "code",
   "execution_count": null,
   "id": "1df8049b-d6e1-4175-9786-856504c68ee6",
   "metadata": {
    "colab": {
     "base_uri": "https://localhost:8080/"
    },
    "id": "PTJJeRo8mSkW",
    "outputId": "4231b46b-724d-475e-b5d2-440ebf5b229d"
   },
   "outputs": [
    {
     "data": {
      "text/plain": [
       "{'rf': {'Accuracy': 0.9994382219725431,\n",
       "  'Precision': 0.9466666666666667,\n",
       "  'Recall': 0.7171717171717171,\n",
       "  'F1 Score': 0.8160919540229885},\n",
       " 'AdaBoost': {'Accuracy': 0.9993504441557529,\n",
       "  'Precision': 0.9428571428571428,\n",
       "  'Recall': 0.6666666666666666,\n",
       "  'F1 Score': 0.7810650887573964},\n",
       " 'Gradient Boosting': {'Accuracy': 0.9990871107053826,\n",
       "  'Precision': 0.8615384615384616,\n",
       "  'Recall': 0.5656565656565656,\n",
       "  'F1 Score': 0.6829268292682926},\n",
       " 'XGBoost': {'Accuracy': 0.999420666409185,\n",
       "  'Precision': 0.9459459459459459,\n",
       "  'Recall': 0.7070707070707071,\n",
       "  'F1 Score': 0.8092485549132947},\n",
       " 'CatBoost': {'Accuracy': 0.9995259997893332,\n",
       "  'Precision': 0.9736842105263158,\n",
       "  'Recall': 0.7474747474747475,\n",
       "  'F1 Score': 0.8457142857142858}}"
      ]
     },
     "execution_count": 9,
     "metadata": {},
     "output_type": "execute_result"
    }
   ],
   "source": [
    "models"
   ]
  },
  {
   "cell_type": "markdown",
   "id": "bc8c0876-2849-4798-bc1d-6aae38fbcfb7",
   "metadata": {
    "id": "lF6rFMSv7aMu"
   },
   "source": [
    "## infrence\n",
    "After evaluating the models, we can notice that the best performing one is the catboost"
   ]
  },
  {
   "cell_type": "code",
   "execution_count": null,
   "id": "d7bf8bb4-1d52-48db-a566-813539186c4e",
   "metadata": {
    "id": "biBl8pUf7ZoF"
   },
   "outputs": [],
   "source": [
    "catboost = CatBoostClassifier(random_state=42, silent=True, n_estimators= 1000)\n",
    "catboost.fit(X_train, y_train)\n",
    "y_pred_catboost = catboost.predict(X_valid)\n",
    "y_pred_catboost = y_pred_catboost.astype('int64')"
   ]
  },
  {
   "cell_type": "code",
   "execution_count": null,
   "id": "5ce9ee4a-183a-44df-a95a-4b309adec4f9",
   "metadata": {
    "colab": {
     "base_uri": "https://localhost:8080/"
    },
    "id": "PHdknEu_9r9d",
    "outputId": "04a18ee3-fd38-47f2-a967-125cdd0e4fc7"
   },
   "outputs": [
    {
     "name": "stdout",
     "output_type": "stream",
     "text": [
      "Accuracy (0.9994908886626171,)\n",
      "\n",
      "Percision (0.9605263157894737,)\n",
      "\n",
      "Recall (0.7373737373737373,)\n",
      "\n",
      "F1_Score 0.8342857142857143\n"
     ]
    }
   ],
   "source": [
    "Accuracy = accuracy_score(y_valid, y_pred_catboost),\n",
    "Percision = precision_score(y_valid, y_pred_catboost),\n",
    "Recall = recall_score(y_valid, y_pred_catboost),\n",
    "F1_Score = f1_score(y_valid, y_pred_catboost)\n",
    "print(\"Accuracy\",Accuracy)\n",
    "print(\"Percision\",Percision)\n",
    "print(\"Recall\",Recall)\n",
    "print(\"F1_Score\",F1_Score)"
   ]
  },
  {
   "cell_type": "code",
   "execution_count": null,
   "id": "094813b0-5614-40d2-9aca-fb202fb4fa52",
   "metadata": {
    "colab": {
     "base_uri": "https://localhost:8080/",
     "height": 564
    },
    "id": "eUinTIRG74Ni",
    "outputId": "26110c13-1ba7-41df-c2f1-195e50d5aaf2"
   },
   "outputs": [
    {
     "data": {
      "image/png": "[encoded data removed]",
      "text/plain": [
       "<Figure size 800x600 with 2 Axes>"
      ]
     },
     "metadata": {},
     "output_type": "display_data"
    }
   ],
   "source": [
    "cm = confusion_matrix(y_valid, y_pred_catboost)\n",
    "\n",
    "# Create a heatmap of the confusion matrix\n",
    "plt.figure(figsize=(8, 6))\n",
    "sns.heatmap(cm, annot=True, fmt='d', cmap='Blues')\n",
    "plt.xlabel('Predicted')\n",
    "plt.ylabel('True')\n",
    "plt.title('Confusion Matrix')\n",
    "plt.show()\n"
   ]
  },
  {
   "cell_type": "code",
   "execution_count": null,
   "id": "0b42799b-7d72-4a20-9298-dd39fc39e689",
   "metadata": {
    "id": "CzZoF04ep0T2"
   },
   "outputs": [],
   "source": [
    "k = 100  # Number of folds\n",
    "skf = StratifiedKFold(n_splits=k)\n",
    "\n",
    "# Define the scoring metric as F1-score\n",
    "scorer = make_scorer(f1_score, average='weighted')\n",
    "\n",
    "# Perform stratified cross-validation and get the scores\n",
    "scores = cross_val_score(catboost, X, y, cv=skf, scoring=scorer)"
   ]
  },
  {
   "cell_type": "code",
   "execution_count": null,
   "id": "5493fab7-269a-49af-8899-bafb05dfe04d",
   "metadata": {
    "colab": {
     "base_uri": "https://localhost:8080/"
    },
    "id": "LDSyKwUBczaA",
    "outputId": "b2340dba-005f-4742-c7c0-29c8e220f553"
   },
   "outputs": [
    {
     "name": "stdout",
     "output_type": "stream",
     "text": [
      "Cross-Validation Scores: [0.99814765 1.         0.99966492 0.99879608 1.         0.99906822\n",
      "\n",
      " 0.99906822 1.         0.9986309  1.         0.99966835 1.\n",
      "\n",
      " 0.99918084 0.99962383 1.         0.99966481 1.         1.\n",
      "\n",
      " 0.9996294  0.9996294  0.9996294  1.         0.9996294  1.\n",
      "\n",
      " 1.         1.         1.         1.         1.         1.\n",
      "\n",
      " 1.         0.9992101  0.9992101  0.99872118 1.         0.9992101\n",
      "\n",
      " 0.9996294  0.9996294  0.9996294  1.         0.99929775 0.99966481\n",
      "\n",
      " 0.99929775 0.9996294  0.9992101  0.9992101  0.9992101  0.9996294\n",
      "\n",
      " 0.9996294  0.9992101  0.9992101  1.         0.99782509 0.9988882\n",
      "\n",
      " 0.99966481 0.9996294  1.         0.99859551 0.99812783 0.99842019\n",
      "\n",
      " 1.         1.         1.         1.         1.         0.9996294\n",
      "\n",
      " 0.99929775 1.         0.9996294  1.         1.         1.\n",
      "\n",
      " 0.9992101  0.9996294  0.9992101  1.         0.9992101  0.9992101\n",
      "\n",
      " 0.9996294  0.9996294  0.9996294  0.9992101  0.99872118 0.9996294\n",
      "\n",
      " 1.         0.9992101  0.9996294  0.9996294  0.9992101  0.9996294\n",
      "\n",
      " 1.         0.99872118 0.9992101  0.9996294  0.9992101  0.9996294\n",
      "\n",
      " 0.99859551 0.9996294  0.99812783 0.9996294 ]\n",
      "\n",
      "Mean F1-score: 0.9995078702352089\n",
      "\n",
      "Standard Deviation: 0.0005048549703580536\n"
     ]
    }
   ],
   "source": [
    "# Print the scores\n",
    "print(\"Cross-Validation Scores:\", scores)\n",
    "print(\"Mean F1-score:\", scores.mean())\n",
    "print(\"Standard Deviation:\", scores.std())"
   ]
  },
  {
   "cell_type": "markdown",
   "id": "f5723f94-ec58-4842-9d48-e091ef0acb90",
   "metadata": {
    "id": "yUz4To_fmBa9"
   },
   "source": [
    "## Data Balancing\n",
    "For the data balancing we are going to choose the SMOTE technique"
   ]
  },
  {
   "cell_type": "code",
   "execution_count": null,
   "id": "bcfc01a5-d295-4340-86ea-0a902fd53332",
   "metadata": {
    "colab": {
     "base_uri": "https://localhost:8080/"
    },
    "id": "X7PQdGZCl9Ox",
    "outputId": "ed47a00d-3ace-4fcd-ef26-71095f50cea0"
   },
   "outputs": [
    {
     "name": "stdout",
     "output_type": "stream",
     "text": [
      "Counter({0: 170588, 1: 170588})\n"
     ]
    }
   ],
   "source": [
    "from imblearn.over_sampling import SMOTE\n",
    "from collections import Counter\n",
    "sm = SMOTE(random_state=42)\n",
    "\n",
    "Xtrain_balanced, ytrain_balanced = sm.fit_resample(X_train, y_train)\n",
    "\n",
    "counter = Counter(ytrain_balanced)\n",
    "\n",
    "print(counter)"
   ]
  },
  {
   "cell_type": "code",
   "execution_count": null,
   "id": "c49fa6c8-b577-47e0-9d99-100a6267a5d3",
   "metadata": {
    "id": "Vbl0MMjTm6kI"
   },
   "outputs": [],
   "source": [
    "# Here we'll add the Lightgbm classifier\n",
    "def fit_boosting_models(X_train, y_train, X_valid, y_valid) -> Dict[str, Dict[str, float]]:\n",
    "    models = {}\n",
    "\n",
    "    scaler = MinMaxScaler()\n",
    "    X_train = scaler.fit_transform(X_train)\n",
    "    X_valid = scaler.transform(X_valid)\n",
    "\n",
    "    # Random Forest\n",
    "\n",
    "    rf = RandomForestClassifier(random_state=42, n_estimators= 1000)\n",
    "    rf.fit(X_train, y_train)\n",
    "    y_pred_rf = rf.predict(X_valid)\n",
    "    y_pred_rf = rf.predict(X_valid).astype('int64')\n",
    "    models[\"rf\"] = {\n",
    "        \"Accuracy\": accuracy_score(y_valid,y_pred_rf ),\n",
    "        \"Precision\": precision_score(y_valid, y_pred_rf),\n",
    "        \"Recall\": recall_score(y_valid, y_pred_rf),\n",
    "        \"F1 Score\": f1_score(y_valid, y_pred_rf)\n",
    "    }\n",
    "\n",
    "\n",
    "    # AdaBoost Classifier\n",
    "    adaboost = AdaBoostClassifier(random_state=42, n_estimators= 1000)\n",
    "    adaboost.fit(X_train, y_train)\n",
    "    y_pred_adaboost = adaboost.predict(X_valid)\n",
    "    y_pred_adaboost = y_pred_adaboost.astype('int64')\n",
    "    models[\"AdaBoost\"] = {\n",
    "        \"Accuracy\": accuracy_score(y_valid, y_pred_adaboost),\n",
    "        \"Precision\": precision_score(y_valid, y_pred_adaboost),\n",
    "        \"Recall\": recall_score(y_valid, y_pred_adaboost),\n",
    "        \"F1 Score\": f1_score(y_valid, y_pred_adaboost)\n",
    "    }\n",
    "\n",
    "\n",
    "    # LightGBM Classifier\n",
    "    lgbm = LGBMClassifier(random_state=42, n_estimators=1000)\n",
    "    lgbm.fit(X_train, y_train)\n",
    "    y_pred_lgbm = lgbm.predict(X_valid)\n",
    "    y_pred_lgbm = y_pred_lgbm.astype('int64')\n",
    "    models[\"LightGBM\"] = {\n",
    "        \"Accuracy\": accuracy_score(y_valid, y_pred_lgbm),\n",
    "        \"Precision\": precision_score(y_valid, y_pred_lgbm),\n",
    "        \"Recall\": recall_score(y_valid, y_pred_lgbm),\n",
    "        \"F1 Score\": f1_score(y_valid, y_pred_lgbm)\n",
    "    }\n",
    "\n",
    "\n",
    "    # Gradient Boosting Classifier\n",
    "    gradboost = GradientBoostingClassifier(random_state=42, n_estimators= 1000)\n",
    "    gradboost.fit(X_train, y_train)\n",
    "    y_pred_gradboost = gradboost.predict(X_valid)\n",
    "    y_pred_gradboost = y_pred_gradboost.astype('int64')\n",
    "    models[\"Gradient Boosting\"] = {\n",
    "        \"Accuracy\": accuracy_score(y_valid, y_pred_gradboost),\n",
    "        \"Precision\": precision_score(y_valid, y_pred_gradboost),\n",
    "        \"Recall\": recall_score(y_valid, y_pred_gradboost),\n",
    "        \"F1 Score\": f1_score(y_valid, y_pred_gradboost)\n",
    "    }\n",
    "\n",
    "    # XGBoost Classifier\n",
    "    xgboost = XGBClassifier(random_state=42, n_estimators= 1000)\n",
    "    xgboost.fit(X_train, y_train)\n",
    "    y_pred_xgboost = xgboost.predict(X_valid)\n",
    "    y_pred_xgboost = y_pred_xgboost.astype('int64')\n",
    "    models[\"XGBoost\"] = {\n",
    "        \"Accuracy\": accuracy_score(y_valid, y_pred_xgboost),\n",
    "        \"Precision\": precision_score(y_valid, y_pred_xgboost),\n",
    "        \"Recall\": recall_score(y_valid, y_pred_xgboost),\n",
    "        \"F1 Score\": f1_score(y_valid, y_pred_xgboost)\n",
    "    }\n",
    "\n",
    "\n",
    "    # CatBoost Classifier\n",
    "    catboost = CatBoostClassifier(random_state=42, silent=True, n_estimators= 1000)\n",
    "    catboost.fit(X_train, y_train)\n",
    "    y_pred_catboost = catboost.predict(X_valid)\n",
    "    y_pred_catboost = y_pred_catboost.astype('int64')\n",
    "    models[\"CatBoost\"] = {\n",
    "        \"Accuracy\": accuracy_score(y_valid, y_pred_catboost),\n",
    "        \"Precision\": precision_score(y_valid, y_pred_catboost),\n",
    "        \"Recall\": recall_score(y_valid, y_pred_catboost),\n",
    "        \"F1 Score\": f1_score(y_valid, y_pred_catboost)\n",
    "    }\n",
    "\n",
    "\n",
    "    for model_name, model_metrics in models.items():\n",
    "        print(f\"Metrics for {model_name}:\")\n",
    "        for metric_name, metric_value in model_metrics.items():\n",
    "            print(f\"\\t{metric_name}: {metric_value:.4f}\")\n",
    "        print(\"\")\n",
    "\n",
    "    return models"
   ]
  },
  {
   "cell_type": "code",
   "execution_count": null,
   "id": "4b4fff4b-66e0-4867-a4e6-addd60acc689",
   "metadata": {
    "id": "gIxkJ6xlnht2"
   },
   "outputs": [],
   "source": [
    "models_after_balancing = fit_boosting_models(Xtrain_balanced, ytrain_balanced, X_valid, y_valid)"
   ]
  },
  {
   "cell_type": "code",
   "execution_count": null,
   "id": "f5aa2e00-a391-46b4-9bb4-b6aa1ff6e431",
   "metadata": {
    "colab": {
     "base_uri": "https://localhost:8080/"
    },
    "id": "6SSEoLManwS3",
    "outputId": "156c9236-bdd6-4265-a9f2-612123f2474f"
   },
   "outputs": [
    {
     "data": {
      "text/plain": [
       "{'rf': {'Accuracy': 0.999385555282469,\n",
       "  'Precision': 0.8555555555555555,\n",
       "  'Recall': 0.7777777777777778,\n",
       "  'F1 Score': 0.8148148148148148},\n",
       " 'AdaBoost': {'Accuracy': 0.9983848881710614,\n",
       "  'Precision': 0.5231788079470199,\n",
       "  'Recall': 0.797979797979798,\n",
       "  'F1 Score': 0.632},\n",
       " 'LightGBM': {'Accuracy': 0.9994557775359011,\n",
       "  'Precision': 0.8953488372093024,\n",
       "  'Recall': 0.7777777777777778,\n",
       "  'F1 Score': 0.8324324324324325},\n",
       " 'Gradient Boosting': {'Accuracy': 0.9984551104244935,\n",
       "  'Precision': 0.5401459854014599,\n",
       "  'Recall': 0.7474747474747475,\n",
       "  'F1 Score': 0.6271186440677967},\n",
       " 'XGBoost': {'Accuracy': 0.999385555282469,\n",
       "  'Precision': 0.8636363636363636,\n",
       "  'Recall': 0.7676767676767676,\n",
       "  'F1 Score': 0.8128342245989305},\n",
       " 'CatBoost': {'Accuracy': 0.9992802219023208,\n",
       "  'Precision': 0.8020833333333334,\n",
       "  'Recall': 0.7777777777777778,\n",
       "  'F1 Score': 0.7897435897435898}}"
      ]
     },
     "execution_count": 12,
     "metadata": {},
     "output_type": "execute_result"
    }
   ],
   "source": [
    "models_after_balancing"
   ]
  },
  {
   "cell_type": "markdown",
   "id": "d2af25b3-dda1-4584-9790-661955f747d5",
   "metadata": {
    "id": "s-hWh-p0TDdH"
   },
   "source": [
    "## Infrence\n",
    "We notice that the best model is the lightgbm"
   ]
  },
  {
   "cell_type": "code",
   "execution_count": null,
   "id": "f0fa9345-ccd0-4725-9ff5-7ad7245a67f0",
   "metadata": {
    "id": "JxspZ7eWS-lm"
   },
   "outputs": [],
   "source": [
    "lgbm = LGBMClassifier(random_state=42, n_estimators= 1000)\n",
    "lgbm.fit(Xtrain_balanced, ytrain_balanced)\n",
    "y_pred_lgbm = lgbm.predict(X_valid)\n",
    "y_pred_lgbm = y_pred_lgbm.astype('int64')"
   ]
  },
  {
   "cell_type": "code",
   "execution_count": null,
   "id": "0272fb61-2ee4-41df-8c61-948ffd93dfa3",
   "metadata": {
    "colab": {
     "base_uri": "https://localhost:8080/"
    },
    "id": "6F4LdgLATMxq",
    "outputId": "0371e5ab-5f43-430b-bbc4-f95d2c886161"
   },
   "outputs": [
    {
     "name": "stdout",
     "output_type": "stream",
     "text": [
      "Accuracy (0.9994557775359011,)\n",
      "\n",
      "Pecision (0.8863636363636364,)\n",
      "\n",
      "Recall (0.7878787878787878,)\n",
      "\n",
      "F1_Score 0.8342245989304813\n"
     ]
    }
   ],
   "source": [
    "Accuracy =  accuracy_score(y_valid, y_pred_lgbm),\n",
    "Pecision =  precision_score(y_valid, y_pred_lgbm),\n",
    "Recall = recall_score(y_valid, y_pred_lgbm),\n",
    "F1_Score =  f1_score(y_valid, y_pred_lgbm)\n",
    "\n",
    "print(\"Accuracy\", Accuracy)\n",
    "print(\"Pecision\", Pecision)\n",
    "print(\"Recall\", Recall)\n",
    "print(\"F1_Score\", F1_Score)\n"
   ]
  },
  {
   "cell_type": "code",
   "execution_count": null,
   "id": "28ad8d68-7fd4-4e91-8eb6-f6b8ba703f0e",
   "metadata": {
    "colab": {
     "base_uri": "https://localhost:8080/",
     "height": 564
    },
    "id": "qBo1W_nJUtlf",
    "outputId": "89404927-3bae-4192-914e-cd5f6e3f9123"
   },
   "outputs": [
    {
     "data": {
      "image/png": "[encoded data removed]",
      "text/plain": [
       "<Figure size 800x600 with 2 Axes>"
      ]
     },
     "metadata": {},
     "output_type": "display_data"
    }
   ],
   "source": [
    "cm = confusion_matrix(y_valid, y_pred_lgbm)\n",
    "\n",
    "# Create a heatmap of the confusion matrix\n",
    "plt.figure(figsize=(8, 6))\n",
    "sns.heatmap(cm, annot=True, fmt='d', cmap='Blues')\n",
    "plt.xlabel('Predicted')\n",
    "plt.ylabel('True')\n",
    "plt.title('Confusion Matrix')\n",
    "plt.show()\n"
   ]
  }
 ],
 "metadata": {
  "kernelspec": {
   "display_name": "Python 3 (ipykernel)",
   "language": "python",
   "name": "python3"
  },
  "language_info": {
   "codemirror_mode": {
    "name": "ipython",
    "version": 3
   },
   "file_extension": ".py",
   "mimetype": "text/x-python",
   "name": "python",
   "nbconvert_exporter": "python",
   "pygments_lexer": "ipython3",
   "version": "3.10.12"
  }
 },
 "nbformat": 4,
 "nbformat_minor": 5
}
